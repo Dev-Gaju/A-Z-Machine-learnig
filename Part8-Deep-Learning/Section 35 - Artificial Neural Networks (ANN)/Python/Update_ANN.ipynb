{
 "cells": [
  {
   "cell_type": "code",
   "execution_count": 31,
   "metadata": {},
   "outputs": [],
   "source": [
    "import numpy as np\n",
    "import pandas as pd\n",
    "import tensorflow as tf"
   ]
  },
  {
   "cell_type": "code",
   "execution_count": 2,
   "metadata": {},
   "outputs": [],
   "source": [
    "dataset = pd.read_csv(\"Churn_Modelling.csv\")"
   ]
  },
  {
   "cell_type": "code",
   "execution_count": 3,
   "metadata": {},
   "outputs": [],
   "source": [
    "X=dataset.iloc[:, 3:-1].values\n",
    "y=dataset.iloc[:, -1].values"
   ]
  },
  {
   "cell_type": "code",
   "execution_count": 4,
   "metadata": {},
   "outputs": [],
   "source": [
    "from sklearn.preprocessing import LabelEncoder, OneHotEncoder\n",
    "le = LabelEncoder()\n",
    "X[:, 2] = le.fit_transform(X[:, 2])"
   ]
  },
  {
   "cell_type": "code",
   "execution_count": 5,
   "metadata": {},
   "outputs": [
    {
     "data": {
      "text/plain": [
       "array([[619, 'France', 0, ..., 1, 1, 101348.88],\n",
       "       [608, 'Spain', 0, ..., 0, 1, 112542.58],\n",
       "       [502, 'France', 0, ..., 1, 0, 113931.57],\n",
       "       ...,\n",
       "       [709, 'France', 0, ..., 0, 1, 42085.58],\n",
       "       [772, 'Germany', 1, ..., 1, 0, 92888.52],\n",
       "       [792, 'France', 0, ..., 1, 0, 38190.78]], dtype=object)"
      ]
     },
     "execution_count": 5,
     "metadata": {},
     "output_type": "execute_result"
    }
   ],
   "source": [
    "X"
   ]
  },
  {
   "cell_type": "code",
   "execution_count": 38,
   "metadata": {},
   "outputs": [],
   "source": [
    "from sklearn.compose import ColumnTransformer\n",
    "from sklearn.preprocessing import OneHotEncoder\n",
    "ct = ColumnTransformer(transformers=[('encoder', OneHotEncoder(), [1])], remainder='passthrough')\n",
    "X = np.array(ct.fit_transform(X))"
   ]
  },
  {
   "cell_type": "code",
   "execution_count": 39,
   "metadata": {},
   "outputs": [
    {
     "name": "stdout",
     "output_type": "stream",
     "text": [
      "[[ 1.          0.          0.57873591 ...  0.64609167  0.97024255\n",
      "   0.02188649]\n",
      " [ 1.          0.          0.57873591 ... -1.54776799  0.97024255\n",
      "   0.21653375]\n",
      " [ 1.          0.          0.57873591 ...  0.64609167 -1.03067011\n",
      "   0.2406869 ]\n",
      " ...\n",
      " [ 1.          0.          0.57873591 ... -1.54776799  0.97024255\n",
      "  -1.00864308]\n",
      " [ 0.          1.         -1.72790383 ...  0.64609167 -1.03067011\n",
      "  -0.12523071]\n",
      " [ 1.          0.          0.57873591 ...  0.64609167 -1.03067011\n",
      "  -1.07636976]]\n"
     ]
    }
   ],
   "source": [
    "print(X)"
   ]
  },
  {
   "cell_type": "code",
   "execution_count": 41,
   "metadata": {},
   "outputs": [
    {
     "data": {
      "text/plain": [
       "array([[ 0.57873591, -0.57873591,  0.57873591, ...,  0.64609167,\n",
       "         0.97024255,  0.02188649],\n",
       "       [ 0.57873591, -0.57873591,  0.57873591, ..., -1.54776799,\n",
       "         0.97024255,  0.21653375],\n",
       "       [ 0.57873591, -0.57873591,  0.57873591, ...,  0.64609167,\n",
       "        -1.03067011,  0.2406869 ],\n",
       "       ...,\n",
       "       [ 0.57873591, -0.57873591,  0.57873591, ..., -1.54776799,\n",
       "         0.97024255, -1.00864308],\n",
       "       [-1.72790383,  1.72790383, -1.72790383, ...,  0.64609167,\n",
       "        -1.03067011, -0.12523071],\n",
       "       [ 0.57873591, -0.57873591,  0.57873591, ...,  0.64609167,\n",
       "        -1.03067011, -1.07636976]])"
      ]
     },
     "execution_count": 41,
     "metadata": {},
     "output_type": "execute_result"
    }
   ],
   "source": [
    "from sklearn.preprocessing import StandardScaler\n",
    "sc= StandardScaler()\n",
    "X=sc.fit_transform(X)\n",
    "X"
   ]
  },
  {
   "cell_type": "code",
   "execution_count": 42,
   "metadata": {},
   "outputs": [],
   "source": [
    "from sklearn.model_selection import train_test_split \n",
    "X_train, X_test,y_train,y_test= train_test_split(X, y, test_size=0.2, random_state=0)"
   ]
  },
  {
   "cell_type": "code",
   "execution_count": 43,
   "metadata": {},
   "outputs": [
    {
     "data": {
      "text/plain": [
       "array([0, 0, 0, ..., 0, 0, 1], dtype=int64)"
      ]
     },
     "execution_count": 43,
     "metadata": {},
     "output_type": "execute_result"
    }
   ],
   "source": [
    "y_train"
   ]
  },
  {
   "cell_type": "code",
   "execution_count": 44,
   "metadata": {},
   "outputs": [],
   "source": [
    "# Building ANN"
   ]
  },
  {
   "cell_type": "code",
   "execution_count": 45,
   "metadata": {},
   "outputs": [],
   "source": [
    "import keras\n",
    "from keras.models import Sequential\n",
    "from keras.layers import Dense   #dense basically use take random wight"
   ]
  },
  {
   "cell_type": "code",
   "execution_count": 46,
   "metadata": {},
   "outputs": [],
   "source": [
    "classification=Sequential()"
   ]
  },
  {
   "cell_type": "code",
   "execution_count": 47,
   "metadata": {},
   "outputs": [],
   "source": [
    "# Adding the input layer and the first hidden layer"
   ]
  },
  {
   "cell_type": "code",
   "execution_count": 48,
   "metadata": {},
   "outputs": [],
   "source": [
    "#parameter tuning helps how much parameter should take"
   ]
  },
  {
   "cell_type": "code",
   "execution_count": null,
   "metadata": {},
   "outputs": [],
   "source": [
    "'''when two binary in output like o and 1 then only one output take \n",
    "Now input is 11 and output is 1 so 11+1/2= 6 hidden layer'''\n",
    "# output_dim=number of node you add in hiddden layer \n",
    "# input_dimits the dependent variable and just in first time"
   ]
  },
  {
   "cell_type": "code",
   "execution_count": 49,
   "metadata": {},
   "outputs": [
    {
     "name": "stderr",
     "output_type": "stream",
     "text": [
      "C:\\Anaconda\\lib\\site-packages\\ipykernel_launcher.py:1: UserWarning: Update your `Dense` call to the Keras 2 API: `Dense(activation=\"relu\", units=6, kernel_initializer=\"uniform\")`\n",
      "  \"\"\"Entry point for launching an IPython kernel.\n"
     ]
    }
   ],
   "source": [
    "classification.add(Dense(output_dim=6, init='uniform', activation='relu'))       #unifom helps to iniatialize wight with uniform ditribution\n",
    "# relu is define is activation function because relu work better in hidden layer and sigmoid in output layer"
   ]
  },
  {
   "cell_type": "code",
   "execution_count": 23,
   "metadata": {},
   "outputs": [],
   "source": [
    "# see how to add second hidden layer"
   ]
  },
  {
   "cell_type": "code",
   "execution_count": 50,
   "metadata": {},
   "outputs": [
    {
     "name": "stderr",
     "output_type": "stream",
     "text": [
      "C:\\Anaconda\\lib\\site-packages\\ipykernel_launcher.py:1: UserWarning: Update your `Dense` call to the Keras 2 API: `Dense(activation=\"relu\", units=6, kernel_initializer=\"uniform\")`\n",
      "  \"\"\"Entry point for launching an IPython kernel.\n"
     ]
    }
   ],
   "source": [
    "classification.add(Dense(output_dim=6, init='uniform', activation='relu'))"
   ]
  },
  {
   "cell_type": "code",
   "execution_count": 51,
   "metadata": {},
   "outputs": [],
   "source": [
    "# outPut_layer how to add this"
   ]
  },
  {
   "cell_type": "code",
   "execution_count": 52,
   "metadata": {},
   "outputs": [
    {
     "name": "stderr",
     "output_type": "stream",
     "text": [
      "C:\\Anaconda\\lib\\site-packages\\ipykernel_launcher.py:1: UserWarning: Update your `Dense` call to the Keras 2 API: `Dense(activation=\"sigmoid\", units=1, kernel_initializer=\"uniform\")`\n",
      "  \"\"\"Entry point for launching an IPython kernel.\n"
     ]
    }
   ],
   "source": [
    "classification.add(Dense(output_dim=1, init='uniform', activation='sigmoid'))    #outpur_dim=1 because output is only 1 funtion"
   ]
  },
  {
   "cell_type": "code",
   "execution_count": 127,
   "metadata": {},
   "outputs": [
    {
     "data": {
      "text/plain": [
       "'If you have more than two parameter then you have to change two thing here those are\\noutput_dense= be set as number of classes (input 3 if we have 3 variable) and change activation function like softmax'"
      ]
     },
     "execution_count": 127,
     "metadata": {},
     "output_type": "execute_result"
    }
   ],
   "source": [
    "'''If you have more than two parameter then you have to change two thing here those are\n",
    "output_dense= be set as number of classes (input 3 if we have 3 variable) and change activation function like softmax'''"
   ]
  },
  {
   "cell_type": "code",
   "execution_count": 53,
   "metadata": {},
   "outputs": [],
   "source": [
    "# Compilee ANN(Artificial neural network)"
   ]
  },
  {
   "cell_type": "code",
   "execution_count": 54,
   "metadata": {},
   "outputs": [],
   "source": [
    "classification.compile(optimizer='adam', loss='binary_crossentropy', metrics=['accuracy'])\n",
    "# optimizer= to find the algorithm to find the optimum set of weight(best weight) \n",
    "#loss function define the predict and output difference if three then it will be categorical_crosentropy\n",
    "#accuracy criteria to evaluate model after weight yodate algoeithm choose to model performance update"
   ]
  },
  {
   "cell_type": "code",
   "execution_count": null,
   "metadata": {},
   "outputs": [],
   "source": [
    "''' Read how loss funtion could change'''"
   ]
  },
  {
   "cell_type": "code",
   "execution_count": 130,
   "metadata": {},
   "outputs": [],
   "source": [
    "#Fitting the ANN to Training set"
   ]
  },
  {
   "cell_type": "code",
   "execution_count": 55,
   "metadata": {},
   "outputs": [
    {
     "name": "stdout",
     "output_type": "stream",
     "text": [
      "WARNING:tensorflow:From C:\\Anaconda\\lib\\site-packages\\keras\\backend\\tensorflow_backend.py:422: The name tf.global_variables is deprecated. Please use tf.compat.v1.global_variables instead.\n",
      "\n",
      "Epoch 1/100\n",
      "8000/8000 [==============================] - 1s 119us/step - loss: 0.5615 - accuracy: 0.7949\n",
      "Epoch 2/100\n",
      "8000/8000 [==============================] - 0s 30us/step - loss: 0.4435 - accuracy: 0.7960\n",
      "Epoch 3/100\n",
      "8000/8000 [==============================] - 0s 29us/step - loss: 0.4350 - accuracy: 0.7960\n",
      "Epoch 4/100\n",
      "8000/8000 [==============================] - 0s 29us/step - loss: 0.4310 - accuracy: 0.7960\n",
      "Epoch 5/100\n",
      "8000/8000 [==============================] - 0s 28us/step - loss: 0.4280 - accuracy: 0.7985\n",
      "Epoch 6/100\n",
      "8000/8000 [==============================] - 0s 31us/step - loss: 0.4253 - accuracy: 0.8174\n",
      "Epoch 7/100\n",
      "8000/8000 [==============================] - 0s 29us/step - loss: 0.4228 - accuracy: 0.8204\n",
      "Epoch 8/100\n",
      "8000/8000 [==============================] - 0s 29us/step - loss: 0.4203 - accuracy: 0.8241\n",
      "Epoch 9/100\n",
      "8000/8000 [==============================] - 0s 28us/step - loss: 0.4182 - accuracy: 0.8265\n",
      "Epoch 10/100\n",
      "8000/8000 [==============================] - 0s 31us/step - loss: 0.4165 - accuracy: 0.8285\n",
      "Epoch 11/100\n",
      "8000/8000 [==============================] - 0s 33us/step - loss: 0.4150 - accuracy: 0.8290\n",
      "Epoch 12/100\n",
      "8000/8000 [==============================] - 0s 31us/step - loss: 0.4140 - accuracy: 0.8296\n",
      "Epoch 13/100\n",
      "8000/8000 [==============================] - 0s 31us/step - loss: 0.4129 - accuracy: 0.8301\n",
      "Epoch 14/100\n",
      "8000/8000 [==============================] - 0s 28us/step - loss: 0.4118 - accuracy: 0.8310\n",
      "Epoch 15/100\n",
      "8000/8000 [==============================] - 0s 32us/step - loss: 0.4108 - accuracy: 0.8301\n",
      "Epoch 16/100\n",
      "8000/8000 [==============================] - 0s 30us/step - loss: 0.4103 - accuracy: 0.8325\n",
      "Epoch 17/100\n",
      "8000/8000 [==============================] - 0s 31us/step - loss: 0.4098 - accuracy: 0.8320\n",
      "Epoch 18/100\n",
      "8000/8000 [==============================] - 0s 30us/step - loss: 0.4075 - accuracy: 0.8326\n",
      "Epoch 19/100\n",
      "8000/8000 [==============================] - 0s 29us/step - loss: 0.4046 - accuracy: 0.8344\n",
      "Epoch 20/100\n",
      "8000/8000 [==============================] - 0s 27us/step - loss: 0.4035 - accuracy: 0.8340\n",
      "Epoch 21/100\n",
      "8000/8000 [==============================] - 0s 27us/step - loss: 0.4022 - accuracy: 0.8357\n",
      "Epoch 22/100\n",
      "8000/8000 [==============================] - 0s 29us/step - loss: 0.4019 - accuracy: 0.8346\n",
      "Epoch 23/100\n",
      "8000/8000 [==============================] - 0s 31us/step - loss: 0.4006 - accuracy: 0.8356\n",
      "Epoch 24/100\n",
      "8000/8000 [==============================] - 0s 37us/step - loss: 0.4001 - accuracy: 0.8366\n",
      "Epoch 25/100\n",
      "8000/8000 [==============================] - 0s 34us/step - loss: 0.3995 - accuracy: 0.8355\n",
      "Epoch 26/100\n",
      "8000/8000 [==============================] - 0s 32us/step - loss: 0.3990 - accuracy: 0.8350\n",
      "Epoch 27/100\n",
      "8000/8000 [==============================] - 0s 31us/step - loss: 0.3986 - accuracy: 0.8369\n",
      "Epoch 28/100\n",
      "8000/8000 [==============================] - 0s 32us/step - loss: 0.3981 - accuracy: 0.8366\n",
      "Epoch 29/100\n",
      "8000/8000 [==============================] - 0s 27us/step - loss: 0.3978 - accuracy: 0.8372\n",
      "Epoch 30/100\n",
      "8000/8000 [==============================] - 0s 27us/step - loss: 0.3974 - accuracy: 0.8366\n",
      "Epoch 31/100\n",
      "8000/8000 [==============================] - 0s 31us/step - loss: 0.3971 - accuracy: 0.8357\n",
      "Epoch 32/100\n",
      "8000/8000 [==============================] - 0s 31us/step - loss: 0.3969 - accuracy: 0.8367\n",
      "Epoch 33/100\n",
      "8000/8000 [==============================] - 0s 26us/step - loss: 0.3963 - accuracy: 0.8365\n",
      "Epoch 34/100\n",
      "8000/8000 [==============================] - 0s 28us/step - loss: 0.3961 - accuracy: 0.8382\n",
      "Epoch 35/100\n",
      "8000/8000 [==============================] - 0s 33us/step - loss: 0.3957 - accuracy: 0.8380\n",
      "Epoch 36/100\n",
      "8000/8000 [==============================] - 0s 33us/step - loss: 0.3951 - accuracy: 0.8366\n",
      "Epoch 37/100\n",
      "8000/8000 [==============================] - 0s 29us/step - loss: 0.3942 - accuracy: 0.8370\n",
      "Epoch 38/100\n",
      "8000/8000 [==============================] - 0s 30us/step - loss: 0.3928 - accuracy: 0.8385\n",
      "Epoch 39/100\n",
      "8000/8000 [==============================] - 0s 28us/step - loss: 0.3907 - accuracy: 0.8379\n",
      "Epoch 40/100\n",
      "8000/8000 [==============================] - 0s 33us/step - loss: 0.3869 - accuracy: 0.8397\n",
      "Epoch 41/100\n",
      "8000/8000 [==============================] - 0s 31us/step - loss: 0.3783 - accuracy: 0.8438\n",
      "Epoch 42/100\n",
      "8000/8000 [==============================] - 0s 29us/step - loss: 0.3649 - accuracy: 0.8505\n",
      "Epoch 43/100\n",
      "8000/8000 [==============================] - 0s 32us/step - loss: 0.3542 - accuracy: 0.8550\n",
      "Epoch 44/100\n",
      "8000/8000 [==============================] - 0s 26us/step - loss: 0.3490 - accuracy: 0.8571\n",
      "Epoch 45/100\n",
      "8000/8000 [==============================] - 0s 32us/step - loss: 0.3458 - accuracy: 0.8575\n",
      "Epoch 46/100\n",
      "8000/8000 [==============================] - 0s 30us/step - loss: 0.3437 - accuracy: 0.8594\n",
      "Epoch 47/100\n",
      "8000/8000 [==============================] - 0s 28us/step - loss: 0.3425 - accuracy: 0.8599\n",
      "Epoch 48/100\n",
      "8000/8000 [==============================] - 0s 32us/step - loss: 0.3414 - accuracy: 0.8585\n",
      "Epoch 49/100\n",
      "8000/8000 [==============================] - 0s 30us/step - loss: 0.3418 - accuracy: 0.8594\n",
      "Epoch 50/100\n",
      "8000/8000 [==============================] - 0s 28us/step - loss: 0.3408 - accuracy: 0.8595\n",
      "Epoch 51/100\n",
      "8000/8000 [==============================] - 0s 28us/step - loss: 0.3400 - accuracy: 0.8619\n",
      "Epoch 52/100\n",
      "8000/8000 [==============================] - 0s 29us/step - loss: 0.3398 - accuracy: 0.8586\n",
      "Epoch 53/100\n",
      "8000/8000 [==============================] - 0s 29us/step - loss: 0.3390 - accuracy: 0.8601\n",
      "Epoch 54/100\n",
      "8000/8000 [==============================] - 0s 29us/step - loss: 0.3392 - accuracy: 0.8610\n",
      "Epoch 55/100\n",
      "8000/8000 [==============================] - 0s 30us/step - loss: 0.3390 - accuracy: 0.8599\n",
      "Epoch 56/100\n",
      "8000/8000 [==============================] - 0s 29us/step - loss: 0.3390 - accuracy: 0.8606\n",
      "Epoch 57/100\n",
      "8000/8000 [==============================] - 0s 30us/step - loss: 0.3386 - accuracy: 0.8608\n",
      "Epoch 58/100\n",
      "8000/8000 [==============================] - 0s 30us/step - loss: 0.3380 - accuracy: 0.8599\n",
      "Epoch 59/100\n",
      "8000/8000 [==============================] - 0s 34us/step - loss: 0.3378 - accuracy: 0.8600\n",
      "Epoch 60/100\n",
      "8000/8000 [==============================] - 0s 28us/step - loss: 0.3374 - accuracy: 0.8606\n",
      "Epoch 61/100\n",
      "8000/8000 [==============================] - 0s 32us/step - loss: 0.3374 - accuracy: 0.8590\n",
      "Epoch 62/100\n",
      "8000/8000 [==============================] - 0s 33us/step - loss: 0.3370 - accuracy: 0.8602\n",
      "Epoch 63/100\n",
      "8000/8000 [==============================] - 0s 28us/step - loss: 0.3369 - accuracy: 0.8606\n",
      "Epoch 64/100\n",
      "8000/8000 [==============================] - 0s 29us/step - loss: 0.3364 - accuracy: 0.8610\n",
      "Epoch 65/100\n",
      "8000/8000 [==============================] - 0s 29us/step - loss: 0.3365 - accuracy: 0.8616\n",
      "Epoch 66/100\n",
      "8000/8000 [==============================] - 0s 29us/step - loss: 0.3367 - accuracy: 0.8606\n",
      "Epoch 67/100\n",
      "8000/8000 [==============================] - 0s 29us/step - loss: 0.3364 - accuracy: 0.8608\n",
      "Epoch 68/100\n",
      "8000/8000 [==============================] - 0s 31us/step - loss: 0.3358 - accuracy: 0.8612\n",
      "Epoch 69/100\n",
      "8000/8000 [==============================] - 0s 30us/step - loss: 0.3359 - accuracy: 0.8615\n",
      "Epoch 70/100\n",
      "8000/8000 [==============================] - 0s 28us/step - loss: 0.3360 - accuracy: 0.8594\n",
      "Epoch 71/100\n",
      "8000/8000 [==============================] - 0s 29us/step - loss: 0.3359 - accuracy: 0.8611\n",
      "Epoch 72/100\n",
      "8000/8000 [==============================] - 0s 30us/step - loss: 0.3356 - accuracy: 0.8618\n",
      "Epoch 73/100\n",
      "8000/8000 [==============================] - 0s 30us/step - loss: 0.3355 - accuracy: 0.8604\n",
      "Epoch 74/100\n",
      "8000/8000 [==============================] - 0s 31us/step - loss: 0.3356 - accuracy: 0.8631\n",
      "Epoch 75/100\n",
      "8000/8000 [==============================] - 0s 30us/step - loss: 0.3351 - accuracy: 0.8627\n",
      "Epoch 76/100\n",
      "8000/8000 [==============================] - 0s 32us/step - loss: 0.3353 - accuracy: 0.8619\n",
      "Epoch 77/100\n",
      "8000/8000 [==============================] - 0s 34us/step - loss: 0.3351 - accuracy: 0.8612\n",
      "Epoch 78/100\n",
      "8000/8000 [==============================] - 0s 37us/step - loss: 0.3350 - accuracy: 0.8611\n",
      "Epoch 79/100\n",
      "8000/8000 [==============================] - 0s 30us/step - loss: 0.3345 - accuracy: 0.8609\n",
      "Epoch 80/100\n",
      "8000/8000 [==============================] - ETA: 0s - loss: 0.3332 - accuracy: 0.86 - 0s 29us/step - loss: 0.3344 - accuracy: 0.8619\n",
      "Epoch 81/100\n",
      "8000/8000 [==============================] - 0s 29us/step - loss: 0.3348 - accuracy: 0.8618\n",
      "Epoch 82/100\n",
      "8000/8000 [==============================] - 0s 29us/step - loss: 0.3340 - accuracy: 0.8614\n",
      "Epoch 83/100\n",
      "8000/8000 [==============================] - 0s 28us/step - loss: 0.3343 - accuracy: 0.8606\n",
      "Epoch 84/100\n",
      "8000/8000 [==============================] - 0s 29us/step - loss: 0.3338 - accuracy: 0.8629\n",
      "Epoch 85/100\n",
      "8000/8000 [==============================] - 0s 29us/step - loss: 0.3341 - accuracy: 0.8605\n",
      "Epoch 86/100\n",
      "8000/8000 [==============================] - 0s 28us/step - loss: 0.3341 - accuracy: 0.8620\n",
      "Epoch 87/100\n",
      "8000/8000 [==============================] - 0s 28us/step - loss: 0.3340 - accuracy: 0.8621\n",
      "Epoch 88/100\n",
      "8000/8000 [==============================] - 0s 35us/step - loss: 0.3338 - accuracy: 0.8633\n",
      "Epoch 89/100\n",
      "8000/8000 [==============================] - 0s 29us/step - loss: 0.3339 - accuracy: 0.8612\n",
      "Epoch 90/100\n",
      "8000/8000 [==============================] - 0s 28us/step - loss: 0.3337 - accuracy: 0.8608\n",
      "Epoch 91/100\n",
      "8000/8000 [==============================] - 0s 29us/step - loss: 0.3337 - accuracy: 0.8611\n",
      "Epoch 92/100\n",
      "8000/8000 [==============================] - 0s 29us/step - loss: 0.3337 - accuracy: 0.8619\n",
      "Epoch 93/100\n",
      "8000/8000 [==============================] - 0s 35us/step - loss: 0.3331 - accuracy: 0.8620\n",
      "Epoch 94/100\n",
      "8000/8000 [==============================] - 0s 29us/step - loss: 0.3333 - accuracy: 0.8606\n",
      "Epoch 95/100\n",
      "8000/8000 [==============================] - 0s 30us/step - loss: 0.3331 - accuracy: 0.8597\n",
      "Epoch 96/100\n",
      "8000/8000 [==============================] - 0s 36us/step - loss: 0.3331 - accuracy: 0.8618\n",
      "Epoch 97/100\n",
      "8000/8000 [==============================] - 0s 29us/step - loss: 0.3330 - accuracy: 0.8601\n",
      "Epoch 98/100\n",
      "8000/8000 [==============================] - 0s 34us/step - loss: 0.3329 - accuracy: 0.8619\n",
      "Epoch 99/100\n",
      "8000/8000 [==============================] - 0s 28us/step - loss: 0.3329 - accuracy: 0.8615\n",
      "Epoch 100/100\n",
      "8000/8000 [==============================] - 0s 31us/step - loss: 0.3326 - accuracy: 0.8622\n"
     ]
    },
    {
     "data": {
      "text/plain": [
       "<keras.callbacks.callbacks.History at 0x291b825e4c8>"
      ]
     },
     "execution_count": 55,
     "metadata": {},
     "output_type": "execute_result"
    }
   ],
   "source": [
    "classification.fit(X_train, y_train, batch_size=32, epochs=100)\n",
    "# setp_size= Number of observation work together when update weight\n",
    "# epoch= After complte whole network 1 then ! epoch complete"
   ]
  },
  {
   "cell_type": "code",
   "execution_count": 56,
   "metadata": {},
   "outputs": [],
   "source": [
    "#### Predicting the Test set results"
   ]
  },
  {
   "cell_type": "code",
   "execution_count": 57,
   "metadata": {},
   "outputs": [
    {
     "name": "stdout",
     "output_type": "stream",
     "text": [
      "[[0 0]\n",
      " [0 1]\n",
      " [0 0]\n",
      " ...\n",
      " [0 0]\n",
      " [0 0]\n",
      " [0 0]]\n"
     ]
    }
   ],
   "source": [
    "y_pred = classification.predict(X_test)   # Here we nee the prediction not probabilities\n",
    "y_pred = (y_pred > 0.5)\n",
    "print(np.concatenate((y_pred.reshape(len(y_pred),1), y_test.reshape(len(y_test),1)),1))"
   ]
  },
  {
   "cell_type": "code",
   "execution_count": 58,
   "metadata": {},
   "outputs": [],
   "source": [
    "### Making the Confusion Matrix"
   ]
  },
  {
   "cell_type": "code",
   "execution_count": 59,
   "metadata": {},
   "outputs": [
    {
     "name": "stdout",
     "output_type": "stream",
     "text": [
      "[[1503   92]\n",
      " [ 190  215]]\n"
     ]
    }
   ],
   "source": [
    "from sklearn.metrics import confusion_matrix\n",
    "cm = confusion_matrix(y_test, y_pred)\n",
    "print(cm)"
   ]
  },
  {
   "cell_type": "code",
   "execution_count": null,
   "metadata": {},
   "outputs": [],
   "source": []
  }
 ],
 "metadata": {
  "kernelspec": {
   "display_name": "Python 3",
   "language": "python",
   "name": "python3"
  },
  "language_info": {
   "codemirror_mode": {
    "name": "ipython",
    "version": 3
   },
   "file_extension": ".py",
   "mimetype": "text/x-python",
   "name": "python",
   "nbconvert_exporter": "python",
   "pygments_lexer": "ipython3",
   "version": "3.7.6"
  }
 },
 "nbformat": 4,
 "nbformat_minor": 4
}
