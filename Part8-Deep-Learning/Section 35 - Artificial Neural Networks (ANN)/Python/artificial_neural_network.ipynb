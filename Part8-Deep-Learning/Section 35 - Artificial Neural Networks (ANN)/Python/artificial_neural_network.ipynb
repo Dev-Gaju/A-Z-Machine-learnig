{
 "cells": [
  {
   "cell_type": "markdown",
   "metadata": {
    "colab_type": "text",
    "id": "lP6JLo1tGNBg"
   },
   "source": [
    "# Artificial Neural Network"
   ]
  },
  {
   "cell_type": "markdown",
   "metadata": {
    "colab_type": "text",
    "id": "gWZyYmS_UE_L"
   },
   "source": [
    "### Importing the libraries"
   ]
  },
  {
   "cell_type": "code",
   "execution_count": 2,
   "metadata": {
    "colab": {},
    "colab_type": "code",
    "id": "MxkJoQBkUIHC"
   },
   "outputs": [
    {
     "name": "stderr",
     "output_type": "stream",
     "text": [
      "C:\\Anaconda\\lib\\site-packages\\tensorflow\\python\\framework\\dtypes.py:516: FutureWarning: Passing (type, 1) or '1type' as a synonym of type is deprecated; in a future version of numpy, it will be understood as (type, (1,)) / '(1,)type'.\n",
      "  _np_qint8 = np.dtype([(\"qint8\", np.int8, 1)])\n",
      "C:\\Anaconda\\lib\\site-packages\\tensorflow\\python\\framework\\dtypes.py:517: FutureWarning: Passing (type, 1) or '1type' as a synonym of type is deprecated; in a future version of numpy, it will be understood as (type, (1,)) / '(1,)type'.\n",
      "  _np_quint8 = np.dtype([(\"quint8\", np.uint8, 1)])\n",
      "C:\\Anaconda\\lib\\site-packages\\tensorflow\\python\\framework\\dtypes.py:518: FutureWarning: Passing (type, 1) or '1type' as a synonym of type is deprecated; in a future version of numpy, it will be understood as (type, (1,)) / '(1,)type'.\n",
      "  _np_qint16 = np.dtype([(\"qint16\", np.int16, 1)])\n",
      "C:\\Anaconda\\lib\\site-packages\\tensorflow\\python\\framework\\dtypes.py:519: FutureWarning: Passing (type, 1) or '1type' as a synonym of type is deprecated; in a future version of numpy, it will be understood as (type, (1,)) / '(1,)type'.\n",
      "  _np_quint16 = np.dtype([(\"quint16\", np.uint16, 1)])\n",
      "C:\\Anaconda\\lib\\site-packages\\tensorflow\\python\\framework\\dtypes.py:520: FutureWarning: Passing (type, 1) or '1type' as a synonym of type is deprecated; in a future version of numpy, it will be understood as (type, (1,)) / '(1,)type'.\n",
      "  _np_qint32 = np.dtype([(\"qint32\", np.int32, 1)])\n",
      "C:\\Anaconda\\lib\\site-packages\\tensorflow\\python\\framework\\dtypes.py:525: FutureWarning: Passing (type, 1) or '1type' as a synonym of type is deprecated; in a future version of numpy, it will be understood as (type, (1,)) / '(1,)type'.\n",
      "  np_resource = np.dtype([(\"resource\", np.ubyte, 1)])\n",
      "C:\\Anaconda\\lib\\site-packages\\tensorboard\\compat\\tensorflow_stub\\dtypes.py:541: FutureWarning: Passing (type, 1) or '1type' as a synonym of type is deprecated; in a future version of numpy, it will be understood as (type, (1,)) / '(1,)type'.\n",
      "  _np_qint8 = np.dtype([(\"qint8\", np.int8, 1)])\n",
      "C:\\Anaconda\\lib\\site-packages\\tensorboard\\compat\\tensorflow_stub\\dtypes.py:542: FutureWarning: Passing (type, 1) or '1type' as a synonym of type is deprecated; in a future version of numpy, it will be understood as (type, (1,)) / '(1,)type'.\n",
      "  _np_quint8 = np.dtype([(\"quint8\", np.uint8, 1)])\n",
      "C:\\Anaconda\\lib\\site-packages\\tensorboard\\compat\\tensorflow_stub\\dtypes.py:543: FutureWarning: Passing (type, 1) or '1type' as a synonym of type is deprecated; in a future version of numpy, it will be understood as (type, (1,)) / '(1,)type'.\n",
      "  _np_qint16 = np.dtype([(\"qint16\", np.int16, 1)])\n",
      "C:\\Anaconda\\lib\\site-packages\\tensorboard\\compat\\tensorflow_stub\\dtypes.py:544: FutureWarning: Passing (type, 1) or '1type' as a synonym of type is deprecated; in a future version of numpy, it will be understood as (type, (1,)) / '(1,)type'.\n",
      "  _np_quint16 = np.dtype([(\"quint16\", np.uint16, 1)])\n",
      "C:\\Anaconda\\lib\\site-packages\\tensorboard\\compat\\tensorflow_stub\\dtypes.py:545: FutureWarning: Passing (type, 1) or '1type' as a synonym of type is deprecated; in a future version of numpy, it will be understood as (type, (1,)) / '(1,)type'.\n",
      "  _np_qint32 = np.dtype([(\"qint32\", np.int32, 1)])\n",
      "C:\\Anaconda\\lib\\site-packages\\tensorboard\\compat\\tensorflow_stub\\dtypes.py:550: FutureWarning: Passing (type, 1) or '1type' as a synonym of type is deprecated; in a future version of numpy, it will be understood as (type, (1,)) / '(1,)type'.\n",
      "  np_resource = np.dtype([(\"resource\", np.ubyte, 1)])\n"
     ]
    }
   ],
   "source": [
    "import numpy as np\n",
    "import pandas as pd\n",
    "import tensorflow as tf"
   ]
  },
  {
   "cell_type": "code",
   "execution_count": 3,
   "metadata": {
    "colab": {
     "base_uri": "https://localhost:8080/",
     "height": 34
    },
    "colab_type": "code",
    "executionInfo": {
     "elapsed": 2787,
     "status": "ok",
     "timestamp": 1586428376540,
     "user": {
      "displayName": "Hadelin de Ponteves",
      "photoUrl": "https://lh3.googleusercontent.com/a-/AOh14GhEuXdT7eQweUmRPW8_laJuPggSK6hfvpl5a6WBaA=s64",
      "userId": "15047218817161520419"
     },
     "user_tz": -240
    },
    "id": "ZaTwK7ojXr2F",
    "outputId": "9991cc2b-cd5d-4e1e-c681-d32b9f4faa9a"
   },
   "outputs": [
    {
     "data": {
      "text/plain": [
       "'1.14.0'"
      ]
     },
     "execution_count": 3,
     "metadata": {},
     "output_type": "execute_result"
    }
   ],
   "source": [
    "tf.__version__"
   ]
  },
  {
   "cell_type": "markdown",
   "metadata": {
    "colab_type": "text",
    "id": "1E0Q3aoKUCRX"
   },
   "source": [
    "## Part 1 - Data Preprocessing"
   ]
  },
  {
   "cell_type": "markdown",
   "metadata": {
    "colab_type": "text",
    "id": "cKWAkFVGUU0Z"
   },
   "source": [
    "### Importing the dataset"
   ]
  },
  {
   "cell_type": "code",
   "execution_count": 4,
   "metadata": {
    "colab": {},
    "colab_type": "code",
    "id": "MXUkhkMfU4wq"
   },
   "outputs": [],
   "source": [
    "dataset = pd.read_csv('Churn_Modelling.csv')\n",
    "X = dataset.iloc[:, 3:-1].values\n",
    "y = dataset.iloc[:, -1].values"
   ]
  },
  {
   "cell_type": "code",
   "execution_count": 5,
   "metadata": {
    "colab": {
     "base_uri": "https://localhost:8080/",
     "height": 134
    },
    "colab_type": "code",
    "executionInfo": {
     "elapsed": 2782,
     "status": "ok",
     "timestamp": 1586428376541,
     "user": {
      "displayName": "Hadelin de Ponteves",
      "photoUrl": "https://lh3.googleusercontent.com/a-/AOh14GhEuXdT7eQweUmRPW8_laJuPggSK6hfvpl5a6WBaA=s64",
      "userId": "15047218817161520419"
     },
     "user_tz": -240
    },
    "id": "VYP9cQTWbzuI",
    "outputId": "38e3588f-f2e3-436b-bdc5-2967d495155c"
   },
   "outputs": [
    {
     "name": "stdout",
     "output_type": "stream",
     "text": [
      "[[619 'France' 'Female' ... 1 1 101348.88]\n",
      " [608 'Spain' 'Female' ... 0 1 112542.58]\n",
      " [502 'France' 'Female' ... 1 0 113931.57]\n",
      " ...\n",
      " [709 'France' 'Female' ... 0 1 42085.58]\n",
      " [772 'Germany' 'Male' ... 1 0 92888.52]\n",
      " [792 'France' 'Female' ... 1 0 38190.78]]\n"
     ]
    }
   ],
   "source": [
    "print(X)"
   ]
  },
  {
   "cell_type": "code",
   "execution_count": 6,
   "metadata": {
    "colab": {
     "base_uri": "https://localhost:8080/",
     "height": 34
    },
    "colab_type": "code",
    "executionInfo": {
     "elapsed": 2780,
     "status": "ok",
     "timestamp": 1586428376541,
     "user": {
      "displayName": "Hadelin de Ponteves",
      "photoUrl": "https://lh3.googleusercontent.com/a-/AOh14GhEuXdT7eQweUmRPW8_laJuPggSK6hfvpl5a6WBaA=s64",
      "userId": "15047218817161520419"
     },
     "user_tz": -240
    },
    "id": "38vKGE6Nb2RR",
    "outputId": "2abeb945-135e-460f-99e9-9967abe198d1"
   },
   "outputs": [
    {
     "name": "stdout",
     "output_type": "stream",
     "text": [
      "[1 0 1 ... 1 1 0]\n"
     ]
    }
   ],
   "source": [
    "print(y)"
   ]
  },
  {
   "cell_type": "markdown",
   "metadata": {
    "colab_type": "text",
    "id": "N6bQ0UgSU-NJ"
   },
   "source": [
    "### Encoding categorical data"
   ]
  },
  {
   "cell_type": "markdown",
   "metadata": {
    "colab_type": "text",
    "id": "le5MJreAbW52"
   },
   "source": [
    "Label Encoding the \"Gender\" column"
   ]
  },
  {
   "cell_type": "code",
   "execution_count": 7,
   "metadata": {
    "colab": {},
    "colab_type": "code",
    "id": "PxVKWXxLbczC"
   },
   "outputs": [],
   "source": [
    "from sklearn.preprocessing import LabelEncoder\n",
    "le = LabelEncoder()\n",
    "X[:, 2] = le.fit_transform(X[:, 2])"
   ]
  },
  {
   "cell_type": "code",
   "execution_count": 8,
   "metadata": {
    "colab": {
     "base_uri": "https://localhost:8080/",
     "height": 134
    },
    "colab_type": "code",
    "executionInfo": {
     "elapsed": 2775,
     "status": "ok",
     "timestamp": 1586428376542,
     "user": {
      "displayName": "Hadelin de Ponteves",
      "photoUrl": "https://lh3.googleusercontent.com/a-/AOh14GhEuXdT7eQweUmRPW8_laJuPggSK6hfvpl5a6WBaA=s64",
      "userId": "15047218817161520419"
     },
     "user_tz": -240
    },
    "id": "-M1KboxFb6OO",
    "outputId": "c7b742e2-7afb-4fb9-c6b4-ffeb3c4812f1"
   },
   "outputs": [
    {
     "name": "stdout",
     "output_type": "stream",
     "text": [
      "[[619 'France' 0 ... 1 1 101348.88]\n",
      " [608 'Spain' 0 ... 0 1 112542.58]\n",
      " [502 'France' 0 ... 1 0 113931.57]\n",
      " ...\n",
      " [709 'France' 0 ... 0 1 42085.58]\n",
      " [772 'Germany' 1 ... 1 0 92888.52]\n",
      " [792 'France' 0 ... 1 0 38190.78]]\n"
     ]
    }
   ],
   "source": [
    "print(X)"
   ]
  },
  {
   "cell_type": "markdown",
   "metadata": {
    "colab_type": "text",
    "id": "CUxGZezpbMcb"
   },
   "source": [
    "One Hot Encoding the \"Geography\" column"
   ]
  },
  {
   "cell_type": "code",
   "execution_count": 11,
   "metadata": {
    "colab": {},
    "colab_type": "code",
    "id": "AMXC8-KMVirw"
   },
   "outputs": [],
   "source": [
    "from sklearn.compose import ColumnTransformer\n",
    "from sklearn.preprocessing import OneHotEncoder\n",
    "ct = ColumnTransformer(transformers=[('encoder', OneHotEncoder(), [1])], remainder='passthrough')\n",
    "X = np.array(ct.fit_transform(X))"
   ]
  },
  {
   "cell_type": "code",
   "execution_count": 13,
   "metadata": {
    "colab": {
     "base_uri": "https://localhost:8080/",
     "height": 134
    },
    "colab_type": "code",
    "executionInfo": {
     "elapsed": 2768,
     "status": "ok",
     "timestamp": 1586428376543,
     "user": {
      "displayName": "Hadelin de Ponteves",
      "photoUrl": "https://lh3.googleusercontent.com/a-/AOh14GhEuXdT7eQweUmRPW8_laJuPggSK6hfvpl5a6WBaA=s64",
      "userId": "15047218817161520419"
     },
     "user_tz": -240
    },
    "id": "ZcxwEon-b8nV",
    "outputId": "9c88c069-f799-4e3b-be4b-24d8e17611fd"
   },
   "outputs": [
    {
     "name": "stdout",
     "output_type": "stream",
     "text": [
      "[[1.0 0.0 1.0 ... 1 1 101348.88]\n",
      " [1.0 0.0 0.0 ... 0 1 112542.58]\n",
      " [1.0 0.0 1.0 ... 1 0 113931.57]\n",
      " ...\n",
      " [1.0 0.0 1.0 ... 0 1 42085.58]\n",
      " [0.0 1.0 0.0 ... 1 0 92888.52]\n",
      " [1.0 0.0 1.0 ... 1 0 38190.78]]\n"
     ]
    }
   ],
   "source": [
    "print(X)"
   ]
  },
  {
   "cell_type": "markdown",
   "metadata": {
    "colab_type": "text",
    "id": "RE_FcHyfV3TQ"
   },
   "source": [
    "### Feature Scaling"
   ]
  },
  {
   "cell_type": "code",
   "execution_count": 14,
   "metadata": {
    "colab": {},
    "colab_type": "code",
    "id": "ViCrE00rV8Sk"
   },
   "outputs": [],
   "source": [
    "from sklearn.preprocessing import StandardScaler\n",
    "sc = StandardScaler()\n",
    "X = sc.fit_transform(X)"
   ]
  },
  {
   "cell_type": "code",
   "execution_count": 15,
   "metadata": {
    "colab": {
     "base_uri": "https://localhost:8080/",
     "height": 235
    },
    "colab_type": "code",
    "executionInfo": {
     "elapsed": 2760,
     "status": "ok",
     "timestamp": 1586428376544,
     "user": {
      "displayName": "Hadelin de Ponteves",
      "photoUrl": "https://lh3.googleusercontent.com/a-/AOh14GhEuXdT7eQweUmRPW8_laJuPggSK6hfvpl5a6WBaA=s64",
      "userId": "15047218817161520419"
     },
     "user_tz": -240
    },
    "id": "De3UsJwXdfMz",
    "outputId": "dde0e114-7250-42b5-d54d-047faebba5e1"
   },
   "outputs": [
    {
     "name": "stdout",
     "output_type": "stream",
     "text": [
      "[[ 0.57873591 -0.57873591  0.99720391 ...  0.64609167  0.97024255\n",
      "   0.02188649]\n",
      " [ 0.57873591 -0.57873591 -1.00280393 ... -1.54776799  0.97024255\n",
      "   0.21653375]\n",
      " [ 0.57873591 -0.57873591  0.99720391 ...  0.64609167 -1.03067011\n",
      "   0.2406869 ]\n",
      " ...\n",
      " [ 0.57873591 -0.57873591  0.99720391 ... -1.54776799  0.97024255\n",
      "  -1.00864308]\n",
      " [-1.72790383  1.72790383 -1.00280393 ...  0.64609167 -1.03067011\n",
      "  -0.12523071]\n",
      " [ 0.57873591 -0.57873591  0.99720391 ...  0.64609167 -1.03067011\n",
      "  -1.07636976]]\n"
     ]
    }
   ],
   "source": [
    "print(X)"
   ]
  },
  {
   "cell_type": "markdown",
   "metadata": {
    "colab_type": "text",
    "id": "vHol938cW8zd"
   },
   "source": [
    "### Splitting the dataset into the Training set and Test set"
   ]
  },
  {
   "cell_type": "code",
   "execution_count": 60,
   "metadata": {
    "colab": {},
    "colab_type": "code",
    "id": "Z-TDt0Y_XEfc"
   },
   "outputs": [
    {
     "data": {
      "text/plain": [
       "array([0, 0, 0, ..., 0, 0, 1], dtype=int64)"
      ]
     },
     "execution_count": 60,
     "metadata": {},
     "output_type": "execute_result"
    }
   ],
   "source": [
    "from sklearn.model_selection import train_test_split\n",
    "X_train, X_test, y_train, y_test = train_test_split(X, y, test_size = 0.2, random_state = 0)\n",
    "y_train"
   ]
  },
  {
   "cell_type": "markdown",
   "metadata": {
    "colab_type": "text",
    "id": "-zfEzkRVXIwF"
   },
   "source": [
    "## Part 2 - Building the ANN"
   ]
  },
  {
   "cell_type": "markdown",
   "metadata": {
    "colab_type": "text",
    "id": "KvdeScabXtlB"
   },
   "source": [
    "### Initializing the ANN"
   ]
  },
  {
   "cell_type": "code",
   "execution_count": 61,
   "metadata": {
    "colab": {},
    "colab_type": "code",
    "id": "3dtrScHxXQox"
   },
   "outputs": [],
   "source": [
    "ann = tf.keras.models.Sequential()"
   ]
  },
  {
   "cell_type": "markdown",
   "metadata": {
    "colab_type": "text",
    "id": "rP6urV6SX7kS"
   },
   "source": [
    "### Adding the input layer and the first hidden layer"
   ]
  },
  {
   "cell_type": "code",
   "execution_count": 62,
   "metadata": {
    "colab": {},
    "colab_type": "code",
    "id": "bppGycBXYCQr"
   },
   "outputs": [],
   "source": [
    "ann.add(tf.keras.layers.Dense(units=6, activation='relu'))"
   ]
  },
  {
   "cell_type": "markdown",
   "metadata": {
    "colab_type": "text",
    "id": "BELWAc_8YJze"
   },
   "source": [
    "### Adding the second hidden layer"
   ]
  },
  {
   "cell_type": "code",
   "execution_count": 63,
   "metadata": {
    "colab": {},
    "colab_type": "code",
    "id": "JneR0u0sYRTd"
   },
   "outputs": [],
   "source": [
    "ann.add(tf.keras.layers.Dense(units=6, activation='relu'))"
   ]
  },
  {
   "cell_type": "markdown",
   "metadata": {
    "colab_type": "text",
    "id": "OyNEe6RXYcU4"
   },
   "source": [
    "### Adding the output layer"
   ]
  },
  {
   "cell_type": "code",
   "execution_count": 64,
   "metadata": {
    "colab": {},
    "colab_type": "code",
    "id": "Cn3x41RBYfvY"
   },
   "outputs": [],
   "source": [
    "ann.add(tf.keras.layers.Dense(units=1, activation='sigmoid'))"
   ]
  },
  {
   "cell_type": "markdown",
   "metadata": {
    "colab_type": "text",
    "id": "JT4u2S1_Y4WG"
   },
   "source": [
    "## Training the ANN"
   ]
  },
  {
   "cell_type": "markdown",
   "metadata": {
    "colab_type": "text",
    "id": "8GWlJChhY_ZI"
   },
   "source": [
    "### Compiling the ANN"
   ]
  },
  {
   "cell_type": "code",
   "execution_count": 65,
   "metadata": {
    "colab": {},
    "colab_type": "code",
    "id": "fG3RrwDXZEaS"
   },
   "outputs": [],
   "source": [
    "ann.compile(optimizer = 'adam', loss = 'binary_crossentropy', metrics = ['accuracy'])"
   ]
  },
  {
   "cell_type": "markdown",
   "metadata": {
    "colab_type": "text",
    "id": "0QR_G5u7ZLSM"
   },
   "source": [
    "### Training the ANN on the Training set"
   ]
  },
  {
   "cell_type": "code",
   "execution_count": 66,
   "metadata": {
    "colab": {
     "base_uri": "https://localhost:8080/",
     "height": 1000
    },
    "colab_type": "code",
    "executionInfo": {
     "elapsed": 31750,
     "status": "ok",
     "timestamp": 1586428405580,
     "user": {
      "displayName": "Hadelin de Ponteves",
      "photoUrl": "https://lh3.googleusercontent.com/a-/AOh14GhEuXdT7eQweUmRPW8_laJuPggSK6hfvpl5a6WBaA=s64",
      "userId": "15047218817161520419"
     },
     "user_tz": -240
    },
    "id": "nHZ-LKv_ZRb3",
    "outputId": "6a90f176-803d-4b03-e65f-c05bda6f519c"
   },
   "outputs": [
    {
     "name": "stdout",
     "output_type": "stream",
     "text": [
      "Epoch 1/100\n",
      "8000/8000 [==============================] - 0s 53us/sample - loss: 0.6338 - acc: 0.6801\n",
      "Epoch 2/100\n",
      "8000/8000 [==============================] - 0s 34us/sample - loss: 0.4612 - acc: 0.8071\n",
      "Epoch 3/100\n",
      "8000/8000 [==============================] - 0s 32us/sample - loss: 0.4352 - acc: 0.8140\n",
      "Epoch 4/100\n",
      "8000/8000 [==============================] - 0s 33us/sample - loss: 0.4261 - acc: 0.8198\n",
      "Epoch 5/100\n",
      "8000/8000 [==============================] - 0s 33us/sample - loss: 0.4209 - acc: 0.8232\n",
      "Epoch 6/100\n",
      "8000/8000 [==============================] - 0s 32us/sample - loss: 0.4174 - acc: 0.8246\n",
      "Epoch 7/100\n",
      "8000/8000 [==============================] - 0s 31us/sample - loss: 0.4145 - acc: 0.8250\n",
      "Epoch 8/100\n",
      "8000/8000 [==============================] - 0s 29us/sample - loss: 0.4121 - acc: 0.8257\n",
      "Epoch 9/100\n",
      "8000/8000 [==============================] - 0s 32us/sample - loss: 0.4101 - acc: 0.8279\n",
      "Epoch 10/100\n",
      "8000/8000 [==============================] - 0s 29us/sample - loss: 0.4082 - acc: 0.8255\n",
      "Epoch 11/100\n",
      "8000/8000 [==============================] - 0s 31us/sample - loss: 0.4061 - acc: 0.8269\n",
      "Epoch 12/100\n",
      "8000/8000 [==============================] - 0s 30us/sample - loss: 0.4040 - acc: 0.8282\n",
      "Epoch 13/100\n",
      "8000/8000 [==============================] - 0s 30us/sample - loss: 0.4014 - acc: 0.8279\n",
      "Epoch 14/100\n",
      "8000/8000 [==============================] - 0s 31us/sample - loss: 0.3991 - acc: 0.8296\n",
      "Epoch 15/100\n",
      "8000/8000 [==============================] - 0s 37us/sample - loss: 0.3966 - acc: 0.8316\n",
      "Epoch 16/100\n",
      "8000/8000 [==============================] - 0s 31us/sample - loss: 0.3939 - acc: 0.8330\n",
      "Epoch 17/100\n",
      "8000/8000 [==============================] - 0s 31us/sample - loss: 0.3911 - acc: 0.8359\n",
      "Epoch 18/100\n",
      "8000/8000 [==============================] - 0s 32us/sample - loss: 0.3882 - acc: 0.8354\n",
      "Epoch 19/100\n",
      "8000/8000 [==============================] - 0s 31us/sample - loss: 0.3857 - acc: 0.8365\n",
      "Epoch 20/100\n",
      "8000/8000 [==============================] - 0s 32us/sample - loss: 0.3830 - acc: 0.8379\n",
      "Epoch 21/100\n",
      "8000/8000 [==============================] - 0s 36us/sample - loss: 0.3805 - acc: 0.8391\n",
      "Epoch 22/100\n",
      "8000/8000 [==============================] - 0s 29us/sample - loss: 0.3777 - acc: 0.8401\n",
      "Epoch 23/100\n",
      "8000/8000 [==============================] - 0s 29us/sample - loss: 0.3751 - acc: 0.8407\n",
      "Epoch 24/100\n",
      "8000/8000 [==============================] - 0s 30us/sample - loss: 0.3721 - acc: 0.8440\n",
      "Epoch 25/100\n",
      "8000/8000 [==============================] - 0s 29us/sample - loss: 0.3685 - acc: 0.8444\n",
      "Epoch 26/100\n",
      "8000/8000 [==============================] - 0s 30us/sample - loss: 0.3654 - acc: 0.8475\n",
      "Epoch 27/100\n",
      "8000/8000 [==============================] - 0s 29us/sample - loss: 0.3620 - acc: 0.8471\n",
      "Epoch 28/100\n",
      "8000/8000 [==============================] - 0s 28us/sample - loss: 0.3594 - acc: 0.8506\n",
      "Epoch 29/100\n",
      "8000/8000 [==============================] - 0s 28us/sample - loss: 0.3563 - acc: 0.8516\n",
      "Epoch 30/100\n",
      "8000/8000 [==============================] - 0s 28us/sample - loss: 0.3534 - acc: 0.8561\n",
      "Epoch 31/100\n",
      "8000/8000 [==============================] - 0s 33us/sample - loss: 0.3510 - acc: 0.8537\n",
      "Epoch 32/100\n",
      "8000/8000 [==============================] - 0s 37us/sample - loss: 0.3478 - acc: 0.8558\n",
      "Epoch 33/100\n",
      "8000/8000 [==============================] - 0s 33us/sample - loss: 0.3458 - acc: 0.8562\n",
      "Epoch 34/100\n",
      "8000/8000 [==============================] - 0s 33us/sample - loss: 0.3440 - acc: 0.8597\n",
      "Epoch 35/100\n",
      "8000/8000 [==============================] - 0s 35us/sample - loss: 0.3426 - acc: 0.8616\n",
      "Epoch 36/100\n",
      "8000/8000 [==============================] - 0s 33us/sample - loss: 0.3417 - acc: 0.8615\n",
      "Epoch 37/100\n",
      "8000/8000 [==============================] - 0s 34us/sample - loss: 0.3406 - acc: 0.8601\n",
      "Epoch 38/100\n",
      "8000/8000 [==============================] - 0s 40us/sample - loss: 0.3398 - acc: 0.8606\n",
      "Epoch 39/100\n",
      "8000/8000 [==============================] - 0s 35us/sample - loss: 0.3388 - acc: 0.8616\n",
      "Epoch 40/100\n",
      "8000/8000 [==============================] - 0s 34us/sample - loss: 0.3384 - acc: 0.8650\n",
      "Epoch 41/100\n",
      "8000/8000 [==============================] - 0s 34us/sample - loss: 0.3381 - acc: 0.8622\n",
      "Epoch 42/100\n",
      "8000/8000 [==============================] - 0s 35us/sample - loss: 0.3379 - acc: 0.8627\n",
      "Epoch 43/100\n",
      "8000/8000 [==============================] - 0s 37us/sample - loss: 0.3371 - acc: 0.8631\n",
      "Epoch 44/100\n",
      "8000/8000 [==============================] - 0s 37us/sample - loss: 0.3366 - acc: 0.8635\n",
      "Epoch 45/100\n",
      "8000/8000 [==============================] - 0s 40us/sample - loss: 0.3364 - acc: 0.8620\n",
      "Epoch 46/100\n",
      "8000/8000 [==============================] - 0s 44us/sample - loss: 0.3359 - acc: 0.8610\n",
      "Epoch 47/100\n",
      "8000/8000 [==============================] - 0s 41us/sample - loss: 0.3366 - acc: 0.8631\n",
      "Epoch 48/100\n",
      "8000/8000 [==============================] - 0s 34us/sample - loss: 0.3357 - acc: 0.8627\n",
      "Epoch 49/100\n",
      "8000/8000 [==============================] - 0s 33us/sample - loss: 0.3357 - acc: 0.8626\n",
      "Epoch 50/100\n",
      "8000/8000 [==============================] - 0s 33us/sample - loss: 0.3355 - acc: 0.8631\n",
      "Epoch 51/100\n",
      "8000/8000 [==============================] - 0s 34us/sample - loss: 0.3352 - acc: 0.8641\n",
      "Epoch 52/100\n",
      "8000/8000 [==============================] - 0s 34us/sample - loss: 0.3351 - acc: 0.8625\n",
      "Epoch 53/100\n",
      "8000/8000 [==============================] - 0s 33us/sample - loss: 0.3345 - acc: 0.8640\n",
      "Epoch 54/100\n",
      "8000/8000 [==============================] - 0s 33us/sample - loss: 0.3348 - acc: 0.8618\n",
      "Epoch 55/100\n",
      "8000/8000 [==============================] - 0s 33us/sample - loss: 0.3345 - acc: 0.8637\n",
      "Epoch 56/100\n",
      "8000/8000 [==============================] - 0s 36us/sample - loss: 0.3343 - acc: 0.8649\n",
      "Epoch 57/100\n",
      "8000/8000 [==============================] - 0s 40us/sample - loss: 0.3339 - acc: 0.8624\n",
      "Epoch 58/100\n",
      "8000/8000 [==============================] - 0s 42us/sample - loss: 0.3337 - acc: 0.8640\n",
      "Epoch 59/100\n",
      "8000/8000 [==============================] - 0s 34us/sample - loss: 0.3330 - acc: 0.8633\n",
      "Epoch 60/100\n",
      "8000/8000 [==============================] - 0s 33us/sample - loss: 0.3333 - acc: 0.8656\n",
      "Epoch 61/100\n",
      "8000/8000 [==============================] - 0s 35us/sample - loss: 0.3332 - acc: 0.8639\n",
      "Epoch 62/100\n",
      "8000/8000 [==============================] - 0s 35us/sample - loss: 0.3329 - acc: 0.8644\n",
      "Epoch 63/100\n",
      "8000/8000 [==============================] - 0s 34us/sample - loss: 0.3324 - acc: 0.8652\n",
      "Epoch 64/100\n",
      "8000/8000 [==============================] - 0s 33us/sample - loss: 0.3331 - acc: 0.8645\n",
      "Epoch 65/100\n",
      "8000/8000 [==============================] - 0s 32us/sample - loss: 0.3325 - acc: 0.8636\n",
      "Epoch 66/100\n",
      "8000/8000 [==============================] - 0s 33us/sample - loss: 0.3324 - acc: 0.8651\n",
      "Epoch 67/100\n",
      "8000/8000 [==============================] - 0s 34us/sample - loss: 0.3323 - acc: 0.8646\n",
      "Epoch 68/100\n",
      "8000/8000 [==============================] - 0s 32us/sample - loss: 0.3318 - acc: 0.8640\n",
      "Epoch 69/100\n",
      "8000/8000 [==============================] - 0s 33us/sample - loss: 0.3321 - acc: 0.8650\n",
      "Epoch 70/100\n",
      "8000/8000 [==============================] - 0s 33us/sample - loss: 0.3317 - acc: 0.8649\n",
      "Epoch 71/100\n",
      "8000/8000 [==============================] - 0s 33us/sample - loss: 0.3310 - acc: 0.8640\n",
      "Epoch 72/100\n",
      "8000/8000 [==============================] - 0s 32us/sample - loss: 0.3315 - acc: 0.8659\n",
      "Epoch 73/100\n",
      "8000/8000 [==============================] - 0s 34us/sample - loss: 0.3311 - acc: 0.8675\n",
      "Epoch 74/100\n",
      "8000/8000 [==============================] - 0s 33us/sample - loss: 0.3310 - acc: 0.8634\n",
      "Epoch 75/100\n",
      "8000/8000 [==============================] - 0s 33us/sample - loss: 0.3309 - acc: 0.8659\n",
      "Epoch 76/100\n",
      "8000/8000 [==============================] - 0s 36us/sample - loss: 0.3300 - acc: 0.8648\n",
      "Epoch 77/100\n",
      "8000/8000 [==============================] - 0s 33us/sample - loss: 0.3308 - acc: 0.8656\n",
      "Epoch 78/100\n",
      "8000/8000 [==============================] - 0s 35us/sample - loss: 0.3303 - acc: 0.8651\n",
      "Epoch 79/100\n",
      "8000/8000 [==============================] - 0s 33us/sample - loss: 0.3304 - acc: 0.8641\n",
      "Epoch 80/100\n",
      "8000/8000 [==============================] - 0s 32us/sample - loss: 0.3304 - acc: 0.8643\n",
      "Epoch 81/100\n",
      "8000/8000 [==============================] - 0s 34us/sample - loss: 0.3297 - acc: 0.8656\n",
      "Epoch 82/100\n",
      "8000/8000 [==============================] - 0s 35us/sample - loss: 0.3302 - acc: 0.8659\n",
      "Epoch 83/100\n",
      "8000/8000 [==============================] - 0s 36us/sample - loss: 0.3298 - acc: 0.8651\n",
      "Epoch 84/100\n",
      "8000/8000 [==============================] - 0s 34us/sample - loss: 0.3293 - acc: 0.8659\n",
      "Epoch 85/100\n",
      "8000/8000 [==============================] - 0s 33us/sample - loss: 0.3289 - acc: 0.8660\n",
      "Epoch 86/100\n",
      "8000/8000 [==============================] - 0s 34us/sample - loss: 0.3291 - acc: 0.8637\n",
      "Epoch 87/100\n",
      "8000/8000 [==============================] - 0s 36us/sample - loss: 0.3292 - acc: 0.8661\n",
      "Epoch 88/100\n",
      "8000/8000 [==============================] - 0s 36us/sample - loss: 0.3292 - acc: 0.8664\n",
      "Epoch 89/100\n",
      "8000/8000 [==============================] - 0s 34us/sample - loss: 0.3289 - acc: 0.8656\n",
      "Epoch 90/100\n",
      "8000/8000 [==============================] - 0s 34us/sample - loss: 0.3293 - acc: 0.8665\n",
      "Epoch 91/100\n",
      "8000/8000 [==============================] - 0s 34us/sample - loss: 0.3292 - acc: 0.8658\n",
      "Epoch 92/100\n",
      "8000/8000 [==============================] - 0s 33us/sample - loss: 0.3290 - acc: 0.8668\n",
      "Epoch 93/100\n",
      "8000/8000 [==============================] - 0s 33us/sample - loss: 0.3284 - acc: 0.8669\n",
      "Epoch 94/100\n",
      "8000/8000 [==============================] - 0s 35us/sample - loss: 0.3288 - acc: 0.8661\n",
      "Epoch 95/100\n",
      "8000/8000 [==============================] - 0s 33us/sample - loss: 0.3283 - acc: 0.8658\n",
      "Epoch 96/100\n",
      "8000/8000 [==============================] - 0s 33us/sample - loss: 0.3280 - acc: 0.8673\n",
      "Epoch 97/100\n",
      "8000/8000 [==============================] - 0s 32us/sample - loss: 0.3286 - acc: 0.8668\n",
      "Epoch 98/100\n",
      "8000/8000 [==============================] - 0s 33us/sample - loss: 0.3285 - acc: 0.8655\n",
      "Epoch 99/100\n",
      "8000/8000 [==============================] - 0s 32us/sample - loss: 0.3281 - acc: 0.8679\n",
      "Epoch 100/100\n",
      "8000/8000 [==============================] - 0s 34us/sample - loss: 0.3283 - acc: 0.8668\n"
     ]
    },
    {
     "data": {
      "text/plain": [
       "<tensorflow.python.keras.callbacks.History at 0x205a80f9c88>"
      ]
     },
     "execution_count": 66,
     "metadata": {},
     "output_type": "execute_result"
    }
   ],
   "source": [
    "ann.fit(X_train, y_train, batch_size = 32, epochs = 100)"
   ]
  },
  {
   "cell_type": "markdown",
   "metadata": {
    "colab_type": "text",
    "id": "tJj5k2MxZga3"
   },
   "source": [
    "## Part 4 - Making the predictions and evaluating the model"
   ]
  },
  {
   "cell_type": "markdown",
   "metadata": {
    "colab_type": "text",
    "id": "u7yx47jPZt11"
   },
   "source": [
    "### Predicting the Test set results"
   ]
  },
  {
   "cell_type": "code",
   "execution_count": 67,
   "metadata": {
    "colab": {
     "base_uri": "https://localhost:8080/",
     "height": 134
    },
    "colab_type": "code",
    "executionInfo": {
     "elapsed": 31748,
     "status": "ok",
     "timestamp": 1586428405581,
     "user": {
      "displayName": "Hadelin de Ponteves",
      "photoUrl": "https://lh3.googleusercontent.com/a-/AOh14GhEuXdT7eQweUmRPW8_laJuPggSK6hfvpl5a6WBaA=s64",
      "userId": "15047218817161520419"
     },
     "user_tz": -240
    },
    "id": "nIyEeQdRZwgs",
    "outputId": "a0f4d9ad-9a29-41dc-b101-9e7216d74dc0"
   },
   "outputs": [
    {
     "name": "stdout",
     "output_type": "stream",
     "text": [
      "[[0 0]\n",
      " [0 1]\n",
      " [0 0]\n",
      " ...\n",
      " [0 0]\n",
      " [0 0]\n",
      " [0 0]]\n"
     ]
    }
   ],
   "source": [
    "y_pred = ann.predict(X_test)\n",
    "y_pred = (y_pred > 0.5)\n",
    "print(np.concatenate((y_pred.reshape(len(y_pred),1), y_test.reshape(len(y_test),1)),1))"
   ]
  },
  {
   "cell_type": "markdown",
   "metadata": {
    "colab_type": "text",
    "id": "o0oyfLWoaEGw"
   },
   "source": [
    "### Making the Confusion Matrix"
   ]
  },
  {
   "cell_type": "code",
   "execution_count": 68,
   "metadata": {
    "colab": {
     "base_uri": "https://localhost:8080/",
     "height": 50
    },
    "colab_type": "code",
    "executionInfo": {
     "elapsed": 31746,
     "status": "ok",
     "timestamp": 1586428405581,
     "user": {
      "displayName": "Hadelin de Ponteves",
      "photoUrl": "https://lh3.googleusercontent.com/a-/AOh14GhEuXdT7eQweUmRPW8_laJuPggSK6hfvpl5a6WBaA=s64",
      "userId": "15047218817161520419"
     },
     "user_tz": -240
    },
    "id": "ci6K_r6LaF6P",
    "outputId": "09bd315f-7091-457f-b222-ce3998de57a5"
   },
   "outputs": [
    {
     "name": "stdout",
     "output_type": "stream",
     "text": [
      "[[1509   86]\n",
      " [ 186  219]]\n"
     ]
    }
   ],
   "source": [
    "from sklearn.metrics import confusion_matrix\n",
    "cm = confusion_matrix(y_test, y_pred)\n",
    "print(cm)"
   ]
  },
  {
   "cell_type": "code",
   "execution_count": null,
   "metadata": {},
   "outputs": [],
   "source": []
  },
  {
   "cell_type": "code",
   "execution_count": null,
   "metadata": {},
   "outputs": [],
   "source": []
  }
 ],
 "metadata": {
  "colab": {
   "authorship_tag": "ABX9TyMwbl0jJoa05wuIU59y39H3",
   "collapsed_sections": [],
   "name": "Artificial Neural Network",
   "provenance": []
  },
  "kernelspec": {
   "display_name": "Python 3",
   "language": "python",
   "name": "python3"
  },
  "language_info": {
   "codemirror_mode": {
    "name": "ipython",
    "version": 3
   },
   "file_extension": ".py",
   "mimetype": "text/x-python",
   "name": "python",
   "nbconvert_exporter": "python",
   "pygments_lexer": "ipython3",
   "version": "3.7.6"
  }
 },
 "nbformat": 4,
 "nbformat_minor": 4
}
